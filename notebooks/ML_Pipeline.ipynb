{
 "cells": [
  {
   "cell_type": "code",
   "execution_count": null,
   "id": "several-problem",
   "metadata": {},
   "outputs": [],
   "source": [
    "import yaml\n",
    "from crosspredict.nodes import model_fit, forward_selection, hyperopt_fit, onefactor, model_single_fit\n",
    "import pandas as pd\n",
    "import pandas as pd\n",
    "import datetime\n",
    "import json\n",
    "import numpy as np\n",
    "from itertools import combinations\n",
    "from hyperopt import fmin, tpe, Trials, space_eval\n",
    "from collections import defaultdict\n",
    "pd.set_option('display.max_rows',100)\n",
    "pd.set_option('display.max_columns',200)\n",
    "\n",
    "from crosspredict.iterator import Iterator\n",
    "from crosspredict.crossval import CrossLightgbmModel\n",
    "from crosspredict.report_binary import ReportBinary"
   ]
  },
  {
   "cell_type": "markdown",
   "id": "binding-lawrence",
   "metadata": {},
   "source": [
    "# Data load"
   ]
  },
  {
   "cell_type": "code",
   "execution_count": null,
   "id": "legislative-battery",
   "metadata": {},
   "outputs": [],
   "source": [
    "\n",
    "df = pd.read_csv(f'data/data_train.csv',sep=';')\n",
    "df_test = pd.read_csv(f'data/data_test.csv',sep=';')\n",
    "\n",
    "df['SIGN_DATE'] = pd.to_datetime(df['SIGN_DATE'])\n",
    "df['SIGN_DATE_mon'] = df['SIGN_DATE'].map(lambda x: x.replace(day=1))\n",
    "\n",
    "with open('params.yaml') as f:\n",
    "    params = yaml.load(f, Loader=yaml.FullLoader)"
   ]
  },
  {
   "cell_type": "markdown",
   "id": "proved-pontiac",
   "metadata": {},
   "source": [
    "# Adversarial validation"
   ]
  },
  {
   "cell_type": "code",
   "execution_count": null,
   "id": "declared-builder",
   "metadata": {},
   "outputs": [],
   "source": [
    "\n",
    "def adversarial_make_target(train, adversarial_frac, col_adversarial, col_date, **kwargs):\n",
    "    target_ind = train.sort_values(col_date)[-int(train.shape[0] * adversarial_frac):].index\n",
    "    train[col_adversarial] = train.index.isin(target_ind).astype(int)\n",
    "    return train\n",
    "train = adversarial_make_target(df, **params)\n",
    "params_adversarial = dict(params)\n",
    "params_adversarial.update({'col_target':params['col_adversarial']})\n",
    "params_adversarial['cols_exclude'].append('id_contract')\n",
    "fig, shap_df, report, model_class = model_fit(df, **params_adversarial)"
   ]
  },
  {
   "cell_type": "code",
   "execution_count": null,
   "id": "adapted-simpson",
   "metadata": {},
   "outputs": [],
   "source": [
    "print(report)"
   ]
  },
  {
   "cell_type": "markdown",
   "id": "narrative-pulse",
   "metadata": {},
   "source": [
    "# One factor analysis - unstable"
   ]
  },
  {
   "cell_type": "code",
   "execution_count": null,
   "id": "tough-richards",
   "metadata": {
    "scrolled": false
   },
   "outputs": [],
   "source": [
    "report_onefactor = onefactor(train, shap_df, col_date=params['col_date_mon'], \n",
    "          col_target=params['col_target'], \n",
    "          report_directory='report', \n",
    "        output_file='README_onefactor_unstable.md',\n",
    "          top_features=3)"
   ]
  },
  {
   "cell_type": "code",
   "execution_count": null,
   "id": "packed-hacker",
   "metadata": {},
   "outputs": [],
   "source": [
    "params['cols_exclude'].append('DAYS_SIGN_DATE_AFTER_TAXREGPAY_REGDATE')"
   ]
  },
  {
   "cell_type": "markdown",
   "id": "separated-performer",
   "metadata": {},
   "source": [
    "# Model fit on all data"
   ]
  },
  {
   "cell_type": "code",
   "execution_count": null,
   "id": "alert-mauritius",
   "metadata": {},
   "outputs": [],
   "source": [
    "fig, shap_df, report, model_class = model_fit(df, **params)"
   ]
  },
  {
   "cell_type": "code",
   "execution_count": null,
   "id": "speaking-lawsuit",
   "metadata": {},
   "outputs": [],
   "source": [
    "params_fs = dict(params)\n",
    "params_fs['feature_name'] = shap_df['feature'][:10].values.tolist()"
   ]
  },
  {
   "cell_type": "markdown",
   "id": "proprietary-detroit",
   "metadata": {},
   "source": [
    "# Forward selection"
   ]
  },
  {
   "cell_type": "code",
   "execution_count": null,
   "id": "declared-burns",
   "metadata": {
    "scrolled": true
   },
   "outputs": [],
   "source": [
    "scores_df, top_features = forward_selection(df, **params_fs)"
   ]
  },
  {
   "cell_type": "code",
   "execution_count": null,
   "id": "incorporate-thomas",
   "metadata": {},
   "outputs": [],
   "source": [
    "scores_df"
   ]
  },
  {
   "cell_type": "code",
   "execution_count": null,
   "id": "opening-contact",
   "metadata": {},
   "outputs": [],
   "source": [
    "top_features = int(json.loads(top_feature÷s)['feature_selection'])"
   ]
  },
  {
   "cell_type": "markdown",
   "id": "marked-vampire",
   "metadata": {},
   "source": [
    "# Hyperopt"
   ]
  },
  {
   "cell_type": "code",
   "execution_count": null,
   "id": "listed-penny",
   "metadata": {},
   "outputs": [],
   "source": [
    "params_hp = dict(params_fs)\n",
    "params_hp['feature_name']=scores_df['index'][:top_features].values.tolist()"
   ]
  },
  {
   "cell_type": "code",
   "execution_count": null,
   "id": "vital-hearts",
   "metadata": {},
   "outputs": [],
   "source": [
    "results = hyperopt_fit(df, **params_hp)"
   ]
  },
  {
   "cell_type": "code",
   "execution_count": null,
   "id": "saved-memory",
   "metadata": {},
   "outputs": [],
   "source": [
    "print(results)"
   ]
  },
  {
   "cell_type": "markdown",
   "id": "encouraging-inventory",
   "metadata": {},
   "source": [
    "# Fit final model"
   ]
  },
  {
   "cell_type": "code",
   "execution_count": null,
   "id": "brutal-norway",
   "metadata": {},
   "outputs": [],
   "source": [
    "params_hp['lgb_params'] = json.loads(results)['params']"
   ]
  },
  {
   "cell_type": "code",
   "execution_count": null,
   "id": "hollywood-genius",
   "metadata": {},
   "outputs": [],
   "source": [
    "fig, shap_df, report, model_class = model_fit(df, **params_hp)"
   ]
  },
  {
   "cell_type": "code",
   "execution_count": null,
   "id": "spectacular-emerald",
   "metadata": {},
   "outputs": [],
   "source": [
    "fig = model_class.shap_summary_plot(df)"
   ]
  },
  {
   "cell_type": "code",
   "execution_count": null,
   "id": "continuous-chest",
   "metadata": {},
   "outputs": [],
   "source": [
    "model_class.scores"
   ]
  },
  {
   "cell_type": "code",
   "execution_count": null,
   "id": "collaborative-moses",
   "metadata": {},
   "outputs": [],
   "source": [
    "model_class.num_boost_optimal"
   ]
  },
  {
   "cell_type": "code",
   "execution_count": null,
   "id": "invisible-phoenix",
   "metadata": {},
   "outputs": [],
   "source": [
    "params_hp['num_boost'] = model_class.num_boost_optimal\n",
    "params_hp['early_stopping'] = None\n",
    "params_hp['cols_cat']=None"
   ]
  },
  {
   "cell_type": "code",
   "execution_count": null,
   "id": "integral-mining",
   "metadata": {},
   "outputs": [],
   "source": [
    "model_str, model = model_single_fit(df, **params_hp)"
   ]
  },
  {
   "cell_type": "markdown",
   "id": "mediterranean-yahoo",
   "metadata": {},
   "source": [
    "# Predict"
   ]
  },
  {
   "cell_type": "code",
   "execution_count": null,
   "id": "cutting-participant",
   "metadata": {},
   "outputs": [],
   "source": [
    "df['PREDICT_class'] = model_class.transform(df)"
   ]
  },
  {
   "cell_type": "code",
   "execution_count": null,
   "id": "documented-spirit",
   "metadata": {},
   "outputs": [],
   "source": [
    "df_test['PREDICT_class'] = model_class.predict(df_test)"
   ]
  },
  {
   "cell_type": "markdown",
   "id": "sexual-little",
   "metadata": {},
   "source": [
    "# Report"
   ]
  },
  {
   "cell_type": "code",
   "execution_count": null,
   "id": "regulated-collection",
   "metadata": {},
   "outputs": [],
   "source": [
    "a = ReportBinary()\n"
   ]
  },
  {
   "cell_type": "code",
   "execution_count": null,
   "id": "cellular-enough",
   "metadata": {
    "scrolled": false
   },
   "outputs": [],
   "source": [
    "a.plot_report(\n",
    "    df,\n",
    "    report_shape = (4,2),\n",
    "    report={'Roc-Auc':  {'loc':(0, 0)},\n",
    "          'Precision-Recall': [{'loc':(0, 1)}],\n",
    "          'MeanTarget-by-Probability': [{'loc':(1, 0)}],\n",
    "          'Gini-by-Generations': {'loc':(2,0), 'colspan':2},\n",
    "          'MeanTarget-by-Generations': {'loc':(3,0), 'colspan':2},\n",
    "          'Probability-Distribution': [{'loc':(1,1)}]},\n",
    "    cols_score = ['PREDICT_class'],\n",
    "    cols_target = [params['col_target']],\n",
    "    col_generation_deals=params['col_date_mon']\n",
    ")\n",
    "a.fig.savefig('report1.png')"
   ]
  },
  {
   "cell_type": "code",
   "execution_count": null,
   "id": "outdoor-dialogue",
   "metadata": {},
   "outputs": [],
   "source": []
  }
 ],
 "metadata": {
  "kernelspec": {
   "display_name": "boyadzhi_38",
   "language": "python",
   "name": "boyadzhi_38"
  },
  "language_info": {
   "codemirror_mode": {
    "name": "ipython",
    "version": 3
   },
   "file_extension": ".py",
   "mimetype": "text/x-python",
   "name": "python",
   "nbconvert_exporter": "python",
   "pygments_lexer": "ipython3",
   "version": "3.8.5"
  }
 },
 "nbformat": 4,
 "nbformat_minor": 5
}
